{
  "nbformat": 4,
  "nbformat_minor": 0,
  "metadata": {
    "colab": {
      "private_outputs": true,
      "provenance": [],
      "collapsed_sections": [
        "Y3lxredqlCYt",
        "3RnN4peoiCZX",
        "gIfDvo9L0UH2"
      ],
      "cell_execution_strategy": "setup",
      "include_colab_link": true
    },
    "kernelspec": {
      "name": "python3",
      "display_name": "Python 3"
    },
    "language_info": {
      "name": "python"
    }
  },
  "cells": [
    {
      "cell_type": "markdown",
      "metadata": {
        "id": "view-in-github",
        "colab_type": "text"
      },
      "source": [
        "<a href=\"https://colab.research.google.com/github/meenakshigurjar1010/capstone_project_EDA/blob/main/Capstone_Project2_Hotel_Booking_Analysis.ipynb\" target=\"_parent\"><img src=\"https://colab.research.google.com/assets/colab-badge.svg\" alt=\"Open In Colab\"/></a>"
      ]
    },
    {
      "cell_type": "markdown",
      "source": [
        "# **Project Name**    - HOTEL BOOKING ANALYSIS\n",
        "\n"
      ],
      "metadata": {
        "id": "vncDsAP0Gaoa"
      }
    },
    {
      "cell_type": "markdown",
      "source": [
        "##### **Submitted by**    - Meenakshi Gurjar\n",
        "##### **Project Type**    - EDA\n",
        "##### **Contribution**    - Individual\n"
      ],
      "metadata": {
        "id": "beRrZCGUAJYm"
      }
    },
    {
      "cell_type": "markdown",
      "source": [
        "# **Project Summary -**"
      ],
      "metadata": {
        "id": "FJNUwmbgGyua"
      }
    },
    {
      "cell_type": "markdown",
      "source": [
        "In this project's description there are two Hotels which are CITY HOTEL & RESORT HOTEL. According to the dataset there are 119390 rows & 32 columns. In this project i have done 3 types of Data manipulation - Data collections,Data cleaning and the last one is EDA(Exploratory Data Analysis).\n",
        "\n",
        "In Data collection:: I have found various columns with help of coding which are head(),tail(),describe(),info(),row(),column(). Some of the methods used & some column to be updated and changed here. Some columns has deleted due to duplicate column present in the list & many more things happened, you can easily go through my project.\n",
        "\n",
        "In Data cleaning:: I have deleted some rows due to various duplicates value in the Dataset i.e there were 119390 rows after using drop_duplicates meethod as we find duplicates items equal to 87396.\n",
        "\n",
        "Before visualizing any data from the Dataset we have done data Wrangling here. With the help of this we checked the null value of all the columns.After getting most null value in the columns, i dropped that columns by using \"drop method\".When we find minimal number of null values, filling those null values with necessary value as per as requirement by using .fillna()\n",
        "\n",
        "Data visualization:: According to the data visualization we found the relationshionship between the variables. Here we describe all the columns with differnt pie_chart plot.we plot the histogram , plot the chart for canceled & not_canceld hotel, one chart for showing weeek wise stay at the hotel, one use for month wise bookings, i show the market_segment through the chart visiual. With the help of bar plot i show the revenue of hotel,i use scatter plot for showing total stay in night, after that i show the coorelation heatmap & at last i use pair plot using seaborn for showing the children in different types of columns.\n",
        "\n",
        "This is the best ways to explain between two variables.\n"
      ],
      "metadata": {
        "id": "F6v_1wHtG2nS"
      }
    },
    {
      "cell_type": "markdown",
      "source": [
        "# **GitHub Link -**"
      ],
      "metadata": {
        "id": "w6K7xa23Elo4"
      }
    },
    {
      "cell_type": "markdown",
      "source": [
        "https://github.com/meenakshigurjar1010/capstone_project_EDA/blob/main/Capstone_Project2_Hotel_Booking_Analysis.ipynb"
      ],
      "metadata": {
        "id": "h1o69JH3Eqqn"
      }
    },
    {
      "cell_type": "markdown",
      "source": [
        "# **Problem Statement**\n"
      ],
      "metadata": {
        "id": "yQaldy8SH6Dl"
      }
    },
    {
      "cell_type": "markdown",
      "source": [
        "**Write Problem Statement Here.**\n",
        "\n",
        "Have you ever wondered when it is the best time of year to book a hotel room ? The optimal lenght of stay in order to get best price for the booking. What if you wanted to predict whether or not ahotel was likely to recieve a disproportionatly hoigh no. of special request?\n",
        "\n",
        "This data set contain booking in formation for a City hotel and Resort hotel and paces for the parking,with all the things which customer needs. All personali identifying information has beeen removed from the data.\n",
        "\n",
        "Explore and analyze the data to discover impotant factors that govern in booking."
      ],
      "metadata": {
        "id": "DpeJGUA3kjGy"
      }
    },
    {
      "cell_type": "markdown",
      "source": [
        "#### **Define Your Business Objective?**"
      ],
      "metadata": {
        "id": "PH-0ReGfmX4f"
      }
    },
    {
      "cell_type": "markdown",
      "source": [
        "Bussiness Analysis the data on bookings of City hotel and Resort hotel to gain insights on the different factors that affect on the bookings.This is undertaken as an individual project.\n"
      ],
      "metadata": {
        "id": "PhDvGCAqmjP1"
      }
    },
    {
      "cell_type": "markdown",
      "source": [
        "# **General Guidelines** : -  "
      ],
      "metadata": {
        "id": "mDgbUHAGgjLW"
      }
    },
    {
      "cell_type": "markdown",
      "source": [
        "1.   Well-structured, formatted, and commented code is required.\n",
        "2.   Exception Handling, Production Grade Code & Deployment Ready Code will be a plus. Those students will be awarded some additional credits.\n",
        "     \n",
        "     The additional credits will have advantages over other students during Star Student selection.\n",
        "       \n",
        "             [ Note: - Deployment Ready Code is defined as, the whole .ipynb notebook should be executable in one go\n",
        "                       without a single error logged. ]\n",
        "\n",
        "3.   Each and every logic should have proper comments.\n",
        "4. You may add as many number of charts you want. Make Sure for each and every chart the following format should be answered.\n",
        "        \n",
        "\n",
        "```\n",
        "# Chart visualization code\n",
        "```\n",
        "            \n",
        "\n",
        "*   Why did you pick the specific chart?\n",
        "*   What is/are the insight(s) found from the chart?\n",
        "* Will the gained insights help creating a positive business impact?\n",
        "Are there any insights that lead to negative growth? Justify with specific reason.\n",
        "\n",
        "5. You have to create at least 20 logical & meaningful charts having important insights.\n",
        "\n",
        "\n",
        "[ Hints : - Do the Vizualization in  a structured way while following \"UBM\" Rule.\n",
        "\n",
        "U - Univariate Analysis,\n",
        "\n",
        "B - Bivariate Analysis (Numerical - Categorical, Numerical - Numerical, Categorical - Categorical)\n",
        "\n",
        "M - Multivariate Analysis\n",
        " ]\n",
        "\n",
        "\n",
        "\n"
      ],
      "metadata": {
        "id": "ZrxVaUj-hHfC"
      }
    },
    {
      "cell_type": "markdown",
      "source": [
        "# ***Let's Begin !***"
      ],
      "metadata": {
        "id": "O_i_v8NEhb9l"
      }
    },
    {
      "cell_type": "markdown",
      "source": [
        "## ***1. Know Your Data***"
      ],
      "metadata": {
        "id": "HhfV-JJviCcP"
      }
    },
    {
      "cell_type": "markdown",
      "source": [
        "### Import Libraries"
      ],
      "metadata": {
        "id": "Y3lxredqlCYt"
      }
    },
    {
      "cell_type": "code",
      "source": [
        "# Import Libraries\n",
        "\n",
        "import numpy as np\n",
        "import pandas as pd\n",
        "import matplotlib.pyplot as plt\n",
        "%matplotlib inline\n",
        "import seaborn as sns\n",
        "\n",
        "# set maximum columns to display in dataframe as 30\n",
        "\n",
        "pd.set_option(\"display.max_columns\", 30)\n",
        "plt.style.use('seaborn')\n",
        "\n",
        "# setting fontsize,fontweight,label,weight for labels,titles\n",
        "\n",
        "plt.rcParams[\"font.weight\"] = \"bold\"\n",
        "plt.rcParams[\"axes.labelweight\"] = \"bold\"\n",
        "plt.rcParams[\"axes.titlesize\"] = 25\n",
        "plt.rcParams[\"axes.titleweight\"] = 'bold'\n",
        "plt.rcParams['xtick.labelsize'] = 15\n",
        "plt.rcParams['ytick.labelsize'] = 15\n",
        "plt.rcParams[\"axes.labelsize\"] = 20\n",
        "plt.rcParams[\"legend.fontsize\"] = 15\n",
        "plt.rcParams[\"legend.title_fontsize\"] = 15"
      ],
      "metadata": {
        "id": "M8Vqi-pPk-HR"
      },
      "execution_count": null,
      "outputs": []
    },
    {
      "cell_type": "markdown",
      "source": [
        "### Dataset Loading"
      ],
      "metadata": {
        "id": "3RnN4peoiCZX"
      }
    },
    {
      "cell_type": "code",
      "source": [
        "# Load Dataset\n",
        "from google.colab import drive\n",
        "drive.mount('/content/drive')"
      ],
      "metadata": {
        "id": "4CkvbW_SlZ_R"
      },
      "execution_count": null,
      "outputs": []
    },
    {
      "cell_type": "code",
      "source": [
        "# csv file location\n",
        "path = \"/content/drive/My Drive/Hotel Bookings.csv\""
      ],
      "metadata": {
        "id": "QsmK2N6j8SXZ"
      },
      "execution_count": null,
      "outputs": []
    },
    {
      "cell_type": "code",
      "source": [
        "# reading csv file\n",
        "df = pd.read_csv(path)"
      ],
      "metadata": {
        "id": "7OK-Jkog8tCd"
      },
      "execution_count": null,
      "outputs": []
    },
    {
      "cell_type": "markdown",
      "source": [
        "### Dataset First View"
      ],
      "metadata": {
        "id": "x71ZqKXriCWQ"
      }
    },
    {
      "cell_type": "code",
      "source": [
        "# Dataset First Look\n",
        "# Checking first five rows\n",
        "df.head()"
      ],
      "metadata": {
        "id": "LWNFOSvLl09H"
      },
      "execution_count": null,
      "outputs": []
    },
    {
      "cell_type": "code",
      "source": [
        "# Checking last 5 rows\n",
        "df.tail()"
      ],
      "metadata": {
        "id": "XBbnoNtb93zj"
      },
      "execution_count": null,
      "outputs": []
    },
    {
      "cell_type": "markdown",
      "source": [
        "### Dataset Rows & Columns count"
      ],
      "metadata": {
        "id": "7hBIi_osiCS2"
      }
    },
    {
      "cell_type": "code",
      "source": [
        "# Dataset Rows & Columns count\n",
        "print(f'we have total {df.shape[0]} rows and {df.shape[1]} columns.')"
      ],
      "metadata": {
        "id": "Kllu7SJgmLij"
      },
      "execution_count": null,
      "outputs": []
    },
    {
      "cell_type": "markdown",
      "source": [
        "### Dataset Information"
      ],
      "metadata": {
        "id": "JlHwYmJAmNHm"
      }
    },
    {
      "cell_type": "code",
      "source": [
        "# Dataset Info\n",
        "df.info()"
      ],
      "metadata": {
        "id": "e9hRXRi6meOf"
      },
      "execution_count": null,
      "outputs": []
    },
    {
      "cell_type": "markdown",
      "source": [
        "#### Duplicate Values"
      ],
      "metadata": {
        "id": "35m5QtbWiB9F"
      }
    },
    {
      "cell_type": "code",
      "source": [
        "# Dataset Duplicate Value Count\n",
        "df.drop_duplicates(inplace=True)\n",
        "unique_row = df.shape[0]\n",
        "\n",
        "# Lets check unique rows\n",
        "print(f'Number of unique rows after removing duplicates: {unique_row}')"
      ],
      "metadata": {
        "id": "1sLdpKYkmox0"
      },
      "execution_count": null,
      "outputs": []
    },
    {
      "cell_type": "code",
      "source": [
        "# View new dataset\n",
        "df.reset_index(drop=True, inplace=True)\n",
        "df.head()"
      ],
      "metadata": {
        "id": "vD9G9SU6_Cyh"
      },
      "execution_count": null,
      "outputs": []
    },
    {
      "cell_type": "markdown",
      "source": [
        "#### Missing Values/Null Values"
      ],
      "metadata": {
        "id": "PoPl-ycgm1ru"
      }
    },
    {
      "cell_type": "code",
      "source": [
        "# Missing Values/Null Values Count\n",
        "\n",
        "null_value = df.isnull().sum()\n",
        "\n",
        "# Fill missing values with NaN for consistency\n",
        "df.fillna(np.nan, inplace=True)\n",
        "\n",
        "# Visualize the missing values\n",
        "miss_value = df.isnull().sum().sort_values(ascending=False)\n",
        "miss_value"
      ],
      "metadata": {
        "id": "GgHWkxvamxVg"
      },
      "execution_count": null,
      "outputs": []
    },
    {
      "cell_type": "code",
      "source": [
        "# Visualizing the missing values\n",
        "plt.figure(figsize=(10, 7))\n",
        "sns.heatmap(df.isnull(), cbar=False, cmap='viridis')\n",
        "plt.title('Heatmap of Missing Values')\n",
        "plt.show()"
      ],
      "metadata": {
        "id": "3q5wnI3om9sJ"
      },
      "execution_count": null,
      "outputs": []
    },
    {
      "cell_type": "markdown",
      "source": [
        "### What did you know about your dataset?"
      ],
      "metadata": {
        "id": "H0kj-8xxnORC"
      }
    },
    {
      "cell_type": "markdown",
      "source": [
        "Answer Here\n",
        "Our dataset contains 119390 rows and 32 columns with different variable types. It has 31994 duplicate values different columns and there are missing values for the columns'Company','agent', 'country', 'children'. There are 3 types of information inside the column as integar, float and object. Basically the given dataset is providing us the overview of the customer inforamtion & by generating insights from those we will try to get some conclusion and come up with some suggestions that will be helpful for the hotels to improve their business."
      ],
      "metadata": {
        "id": "gfoNAAC-nUe_"
      }
    },
    {
      "cell_type": "markdown",
      "source": [
        "## ***2. Understanding Your Variables***"
      ],
      "metadata": {
        "id": "nA9Y7ga8ng1Z"
      }
    },
    {
      "cell_type": "code",
      "source": [
        "# Dataset Columns\n",
        "df_columns =df.columns\n",
        "df_columns"
      ],
      "metadata": {
        "id": "j7xfkqrt5Ag5"
      },
      "execution_count": null,
      "outputs": []
    },
    {
      "cell_type": "code",
      "source": [
        "# Dataset Describe\n",
        "df.describe()"
      ],
      "metadata": {
        "id": "DnOaZdaE5Q5t"
      },
      "execution_count": null,
      "outputs": []
    },
    {
      "cell_type": "markdown",
      "source": [
        "### Variables Description"
      ],
      "metadata": {
        "id": "PBTbrJXOngz2"
      }
    },
    {
      "cell_type": "markdown",
      "source": [
        "Hotel : Name of Hotel (Resort Hotel & City Hotel)\n",
        "\n",
        "is_canceled : If the booking was canceled it is 1 and if no cancellation it is 1.\n",
        "\n",
        "lead_time: No. of days before actual arrival of the guests.\n",
        "\n",
        "arrival_date_year : Year of arrival\n",
        "\n",
        "arrival_date_month : Month of arrrival year.\n",
        "\n",
        "arrival_date_week_number : Week of the arrival.\n",
        "\n",
        "arrival_date_day of_month : Day of arrival.\n",
        "\n",
        "Stay_in_weekend_nights : No. of weekend spent by the guest at hotel.\n",
        "\n",
        "Stay_in_week_nights : Number week night stay at the hotel.\n",
        "\n",
        "Adults : Number of adults among the guest.\n",
        "\n",
        "Children : Number of children with the guest.\n",
        "\n",
        "Meal : Type of meals booked.\n",
        "\n",
        "Country : Guest from the country.\n",
        "\n",
        "Market_segment : Designation of market ssegment.\n",
        "\n",
        "Distribution_channel : Nmae of distribution channel.\n",
        "\n",
        "is_repeated_guest : I the repeated guest come for booking (1) or (0).\n",
        "\n",
        "Previous_cancelation : Number of privious canceled booking by guest prior to the current booking.\n",
        "\n",
        "Reserved_room_type : Code of reserved room type.\n",
        "\n",
        "Assigned_room_type : Code of room type assigned.\n",
        "\n",
        "Booking_changes : No. of changes made while booking.\n",
        "\n",
        "Agent : Id of travel agent who made the booking.\n",
        "\n",
        "Company : Id of the company that made the booking.\n",
        "\n",
        "Days_in_waiting_list : No. of days left booking in the waiting list.\n",
        "\n",
        "Customer_type : Type of customer assuming one for categories.\n",
        "\n",
        "adr : Average daily rate as defined by dividing the sum of all lodging transaction by the total no. of staying nights.\n",
        "\n",
        "Required_car_parking_space : No. of car parking spaces required by customer.\n",
        "\n",
        "Total_of_special_request : No. of special request made bu the customer.\n",
        "\n",
        "Resevation_status : Reservation status (canceled, check_out,check_in)\n",
        "\n",
        "Reservation_status_date : Date where last update of the reservation."
      ],
      "metadata": {
        "id": "aJV4KIxSnxay"
      }
    },
    {
      "cell_type": "markdown",
      "source": [
        "### Check Unique Values for each variable."
      ],
      "metadata": {
        "id": "u3PMJOP6ngxN"
      }
    },
    {
      "cell_type": "code",
      "source": [
        "# Check Unique Values for each variable.\n",
        "for element in df.columns.tolist():\n",
        "  print(\"No. of unique values in\", element , \"is\" , df[element].nunique())"
      ],
      "metadata": {
        "id": "zms12Yq5n-jE"
      },
      "execution_count": null,
      "outputs": []
    },
    {
      "cell_type": "code",
      "source": [
        "# lets check unique value of hotel column\n",
        "df['hotel'].unique()"
      ],
      "metadata": {
        "id": "d3Nrg6UREvrW"
      },
      "execution_count": null,
      "outputs": []
    },
    {
      "cell_type": "code",
      "source": [
        "# Arrival date month columns\n",
        "df['arrival_date_month'].unique()"
      ],
      "metadata": {
        "id": "YDGbtMOpE30l"
      },
      "execution_count": null,
      "outputs": []
    },
    {
      "cell_type": "code",
      "source": [
        "# check unique adults value in columns\n",
        "df['adults'].unique()"
      ],
      "metadata": {
        "id": "qokrgvdJE4Rk"
      },
      "execution_count": null,
      "outputs": []
    },
    {
      "cell_type": "code",
      "source": [
        "# check unique babies value in columns\n",
        "df['babies'].unique()"
      ],
      "metadata": {
        "id": "VxmRdQdAFMaH"
      },
      "execution_count": null,
      "outputs": []
    },
    {
      "cell_type": "code",
      "source": [
        "# lets check for the cancel columns\n",
        "df['is_canceled'].unique()"
      ],
      "metadata": {
        "id": "Jp1dH2-HFLAk"
      },
      "execution_count": null,
      "outputs": []
    },
    {
      "cell_type": "code",
      "source": [
        "# check unique value of arrival date years\n",
        "df['arrival_date_year'].unique()"
      ],
      "metadata": {
        "id": "y31-NiO_FH7l"
      },
      "execution_count": null,
      "outputs": []
    },
    {
      "cell_type": "code",
      "source": [
        "# lets check no of unique value in agent\n",
        "df['agent'].unique()"
      ],
      "metadata": {
        "id": "ep5u8PL1FGSN"
      },
      "execution_count": null,
      "outputs": []
    },
    {
      "cell_type": "code",
      "source": [
        "#check for market segment\n",
        "df['market_segment'].unique()"
      ],
      "metadata": {
        "id": "BI6hTZ27FE1_"
      },
      "execution_count": null,
      "outputs": []
    },
    {
      "cell_type": "code",
      "source": [
        "# checking unique value in meal\n",
        "df['meal'].unique()"
      ],
      "metadata": {
        "id": "Fsdjd9m_FDLO"
      },
      "execution_count": null,
      "outputs": []
    },
    {
      "cell_type": "code",
      "source": [
        "# check unique value in country\n",
        "df['country'].unique()"
      ],
      "metadata": {
        "id": "GgKtc3XmFAsn"
      },
      "execution_count": null,
      "outputs": []
    },
    {
      "cell_type": "markdown",
      "source": [
        "## 3. ***Data Wrangling***"
      ],
      "metadata": {
        "id": "dauF4eBmngu3"
      }
    },
    {
      "cell_type": "markdown",
      "source": [
        "### Data Wrangling Code"
      ],
      "metadata": {
        "id": "bKJF3rekwFvQ"
      }
    },
    {
      "cell_type": "code",
      "source": [
        "# lets check the missing value columns\n",
        "miss_value[:10]"
      ],
      "metadata": {
        "id": "wk-9a2fpoLcV"
      },
      "execution_count": null,
      "outputs": []
    },
    {
      "cell_type": "code",
      "source": [
        "# check % of null value in each column\n",
        "percentage_company_null_value = miss_value[0] / unique_row * 100\n",
        "percentage_company_null_value"
      ],
      "metadata": {
        "id": "iZxoZazqV_hR"
      },
      "execution_count": null,
      "outputs": []
    },
    {
      "cell_type": "code",
      "source": [
        "# check for agent %\n",
        "percentage_agent_null_value = miss_value[1] / unique_row * 100\n",
        "percentage_agent_null_value"
      ],
      "metadata": {
        "id": "g1ZDpeJJWFEI"
      },
      "execution_count": null,
      "outputs": []
    },
    {
      "cell_type": "code",
      "source": [
        "# check for country % in column\n",
        "percentage_country_null_value = miss_value[2] / unique_row * 100\n",
        "percentage_country_null_value"
      ],
      "metadata": {
        "id": "S0nDA-h_WY2c"
      },
      "execution_count": null,
      "outputs": []
    },
    {
      "cell_type": "code",
      "source": [
        "# we have less null value in country column, so we replace null from 0 as country column\n",
        "df['children'].fillna(value=0,inplace=True)\n",
        "df['children'].isnull().sum()"
      ],
      "metadata": {
        "id": "ANEFjkcbWlXp"
      },
      "execution_count": null,
      "outputs": []
    },
    {
      "cell_type": "code",
      "source": [
        "# Replacing the null value in \"agent\" column by mean\n",
        "df[\"agent\"].fillna(df[\"agent\"].mean(),inplace= True)\n",
        "df['agent'].isnull().sum()"
      ],
      "metadata": {
        "id": "65ClbneoZzJ4"
      },
      "execution_count": null,
      "outputs": []
    },
    {
      "cell_type": "code",
      "source": [
        "# Drop the \"company\" column as it has more missing value \"94%\"\n",
        "df = df.drop([\"company\"],axis=1)"
      ],
      "metadata": {
        "id": "r3BGi5puaE4j"
      },
      "execution_count": null,
      "outputs": []
    },
    {
      "cell_type": "code",
      "source": [
        "# Remove 488 or 0.41% missing data of \"country\"\n",
        "df = df.dropna(axis=0)"
      ],
      "metadata": {
        "id": "G4TDJsHOaLUm"
      },
      "execution_count": null,
      "outputs": []
    },
    {
      "cell_type": "code",
      "source": [
        "# now lets check the shape\n",
        "df.shape"
      ],
      "metadata": {
        "id": "GZgBnLxLXU2d"
      },
      "execution_count": null,
      "outputs": []
    },
    {
      "cell_type": "code",
      "source": [
        "# lets check database in anyb other null value\n",
        "df.isnull().sum()"
      ],
      "metadata": {
        "id": "1kl5NYrsXS3-"
      },
      "execution_count": null,
      "outputs": []
    },
    {
      "cell_type": "code",
      "source": [
        "# lets check info datatype\n",
        "df.info()"
      ],
      "metadata": {
        "id": "wB0-yFFgXNAc"
      },
      "execution_count": null,
      "outputs": []
    },
    {
      "cell_type": "code",
      "source": [
        "# total stay in nights\n",
        "df['total_stay_in_nights'] = df['stays_in_week_nights'] + df['stays_in_weekend_nights']\n",
        "df['total_stay_in_nights']"
      ],
      "metadata": {
        "id": "IsTPwT1cXJf_"
      },
      "execution_count": null,
      "outputs": []
    },
    {
      "cell_type": "code",
      "source": [
        "# created column for revenue  using total_stay * adr\n",
        "df['revenue'] = df['total_stay_in_nights'] * df['adr']\n",
        "df['revenue']"
      ],
      "metadata": {
        "id": "YbcKt_7mXDG_"
      },
      "execution_count": null,
      "outputs": []
    },
    {
      "cell_type": "code",
      "source": [
        "# total guest coming for each booking\n",
        "df['total_guest'] = df['children'] + df['adults'] + df['babies']\n",
        "df['total_guest'].sum()"
      ],
      "metadata": {
        "id": "1GEH_35HW9uI"
      },
      "execution_count": null,
      "outputs": []
    },
    {
      "cell_type": "code",
      "source": [
        "# from column is_cancelled . we will replace the value from(0,1) to not_cancelled,is cancelled\n",
        "df['is_canceled'] = df['is_canceled'].replace([0,1] , ['not_cancelled','is_cancelled'])\n",
        "df['is_canceled']"
      ],
      "metadata": {
        "id": "iea8Db6mW4DR"
      },
      "execution_count": null,
      "outputs": []
    },
    {
      "cell_type": "code",
      "source": [
        "# same for the repeated guest column\n",
        "df['is_repeated_guest'] = df['is_repeated_guest'].replace([0,1],['not_repeated','repeated'])\n",
        "df['is_repeated_guest']"
      ],
      "metadata": {
        "id": "go6xzDQCWzHv"
      },
      "execution_count": null,
      "outputs": []
    },
    {
      "cell_type": "code",
      "source": [
        "# check revenue hotel wise\n",
        "hotel_wise_total_revenue = df.groupby('hotel')['revenue'].sum()\n",
        "hotel_wise_total_revenue"
      ],
      "metadata": {
        "id": "_cYpOCNhWmnf"
      },
      "execution_count": null,
      "outputs": []
    },
    {
      "cell_type": "markdown",
      "source": [
        "### What all manipulations have you done and insights you found?"
      ],
      "metadata": {
        "id": "MSa1f5Uengrz"
      }
    },
    {
      "cell_type": "markdown",
      "source": [
        "**Data Manipulations**\n",
        "\n",
        "1.  Missing Values Handling:\n",
        "\n",
        "   *  Children: Filled null values with 0.\n",
        "   *   Agent: Filled null values with the mean value of the column.\n",
        "   *   Company: Dropped the column due to 94% missing values.\n",
        "   *   Country: Removed rows with missing values, which accounted for 0.41% of the data.\n",
        "2.  Derived Columns:\n",
        "\n",
        "   *   Total Stay in Nights: Added a column total_stay_in_nights by summing stays_in_week_nights and stays_in_weekend_nights.\n",
        "   *   Revenue: Created a column revenue by multiplying total_stay_in_nights with adr.\n",
        "   *   Total Guests: Added a column total_guest by summing children, adults, and babies.\n",
        "3.   Column Transformations:\n",
        "\n",
        "   *  Is Canceled: Transformed values to ['not_canceled', 'is_canceled'].\n",
        "   *  Is Repeated Guest: Transformed values to ['not_repeated', 'repeated'].\n",
        "\n",
        "**Insights Gained**\n",
        "\n",
        "1.   Missing Values:\n",
        "\n",
        "   *   The company column had a very high percentage of missing values, justifying its removal to prevent skewed analysis.\n",
        "   *   The agent column's missing values were effectively handled by imputation with the mean, ensuring minimal data loss.\n",
        "   *   The removal of rows with missing values in the country column (0.41% of data) was feasible and maintained data integrity.\n",
        "\n",
        "2.  Drop Value:\n",
        "  *   For the data who has duplicate value in data , we have to drop this also by using drop_duplicate.\n",
        "\n",
        "\n",
        "By implementing these manipulations, the dataset has been cleaned and enriched, enabling deeper analysis and insights into booking patterns, customer behavior, and financial performance. These insights can be used to optimize booking strategies, enhance customer satisfaction, and improve overall operational efficiency."
      ],
      "metadata": {
        "id": "LbyXE7I1olp8"
      }
    },
    {
      "cell_type": "markdown",
      "source": [
        "## ***4. Data Vizualization, Storytelling & Experimenting with charts : Understand the relationships between variables***"
      ],
      "metadata": {
        "id": "GF8Ens_Soomf"
      }
    },
    {
      "cell_type": "markdown",
      "source": [
        "#### Chart - 1"
      ],
      "metadata": {
        "id": "0wOQAZs5pc--"
      }
    },
    {
      "cell_type": "code",
      "source": [
        "# Chart - 1 visualization code\n",
        "# Plotting Histogram\n",
        "df.hist(figsize=(25,18))\n",
        "plt.show()"
      ],
      "metadata": {
        "id": "7v_ESjsspbW7"
      },
      "execution_count": null,
      "outputs": []
    },
    {
      "cell_type": "markdown",
      "source": [
        "##### 1. Why did you pick the specific chart?"
      ],
      "metadata": {
        "id": "K5QZ13OEpz2H"
      }
    },
    {
      "cell_type": "markdown",
      "source": [
        "Histogram is very popular tool in the data analysis because it effectively shows the distribution of numerical data and also popular tool to summarize the data."
      ],
      "metadata": {
        "id": "XESiWehPqBRc"
      }
    },
    {
      "cell_type": "markdown",
      "source": [
        "##### 2. What is/are the insight(s) found from the chart?"
      ],
      "metadata": {
        "id": "lQ7QKXXCp7Bj"
      }
    },
    {
      "cell_type": "markdown",
      "source": [
        "These are the insights found from the data:\n",
        "1. Maximun arrival took place in the year 2016.\n",
        "2. Maximum arrival date week number is 30.\n",
        "3. Maximum arrival took place in last month.\n",
        "4. There are more adults in the guests coming to the hotel.\n",
        "5. There are less space for car parking."
      ],
      "metadata": {
        "id": "C_j1G7yiqdRP"
      }
    },
    {
      "cell_type": "markdown",
      "source": [
        "##### 3. Will the gained insights help creating a positive business impact?\n",
        "Are there any insights that lead to negative growth? Justify with specific reason."
      ],
      "metadata": {
        "id": "448CDAPjqfQr"
      }
    },
    {
      "cell_type": "markdown",
      "source": [
        "The insights from histogram are giving some ideas about some specific factors where business reached its peak and highlighted some other factors which can be improved. To understand this the maximum arrival took place in the year 2016 as this particular year the business reached its peak. Also low car parking space is showing negative impact on the business which need to be improved or arranged in a better manner to attract more customer.\n",
        "These insights can help optimize pricing strategies, understand booking patterns, and improve operational efficiency, leading to better customer satisfaction and increased revenue.\n",
        "\n"
      ],
      "metadata": {
        "id": "3cspy4FjqxJW"
      }
    },
    {
      "cell_type": "markdown",
      "source": [
        "#### Chart - 2"
      ],
      "metadata": {
        "id": "KSlN3yHqYklG"
      }
    },
    {
      "cell_type": "code",
      "source": [
        "from matplotlib.image import Bbox\n",
        "# Chart - 2 visualization code\n",
        "def get_count_from_column_bar(df,column_label):\n",
        "  df_grpd = df[column_label].value_counts()\n",
        "  df_grpd = pd.DataFrame({'index':df_grpd.index,'count':df_grpd.values})\n",
        "  return df_grpd\n",
        "\n",
        "# format the label of x-axis\n",
        "\n",
        "  def plot_bar_chart_from_column(df,column_label,t1):\n",
        "    df_grpd = get_count_from_column(df,column_label)\n",
        "    fig, ax = ply.subplots(figsize=(25,8))\n",
        "    c = ['g','r','b','c','y']\n",
        "    ax.bar(df_grpd['index'],df_grpd['count'],width = 0.6,align = 'edge', edgecolor = 'red', linewidth = 6, color=c , linestyle = ':', alpha = 0.6)\n",
        "    plt.title(t1, bbox={'pad':6})\n",
        "    plt.legend()\n",
        "    plt.ylabel('count')\n",
        "    plt.xticks(rotation=20)\n",
        "    plt.xlabel(column_label)\n",
        "    plt.show()\n"
      ],
      "metadata": {
        "id": "R4YgtaqtYklH"
      },
      "execution_count": null,
      "outputs": []
    },
    {
      "cell_type": "code",
      "source": [
        "# Chart - 2 visualization code\n",
        "def get_count_from_column(df,column_label):\n",
        "  df_grpd = df[column_label].value_counts()\n",
        "  df_grpd = pd.DataFrame({'index':df_grpd.index,'count':df_grpd.values})\n",
        "  return df_grpd\n",
        "\n",
        "# plot a piechart from a group data\n",
        "\n",
        "\n",
        "def plot_pie_chart_from_column(df,column_label,t1,exp):\n",
        "  df_grpd = get_count_from_column(df,column_label)\n",
        "  fig, ax = plt.subplots(figsize=(25,8))\n",
        "  ax.pie(df_grpd.loc[:,'count'],labels = df_grpd.loc[:,'index'],autopct = '%1.2f%%', startangle=90,shadow = True,labeldistance = 1, explode =exp)\n",
        "  plt.title(t1, bbox={'pad':6})\n",
        "  ax.axis('equal')\n",
        "  plt.legend()\n",
        "  plt.show()"
      ],
      "metadata": {
        "id": "4ubLayA_lQHN"
      },
      "execution_count": null,
      "outputs": []
    },
    {
      "cell_type": "code",
      "source": [
        "exp1 = [0.08,0.08]\n",
        "plot_pie_chart_from_column(df,'hotel','Booking percentage of Hotel',exp1)"
      ],
      "metadata": {
        "id": "vIFizmY7lRNg"
      },
      "execution_count": null,
      "outputs": []
    },
    {
      "cell_type": "markdown",
      "source": [
        "##### 1. Why did you pick the specific chart?"
      ],
      "metadata": {
        "id": "t6dVpIINYklI"
      }
    },
    {
      "cell_type": "markdown",
      "source": [
        "we used pie chart because it effectively illustrates the percentage distribution of categorical data(here we see the booking percentage), making it easy to compare proportions between categories."
      ],
      "metadata": {
        "id": "5aaW0BYyYklI"
      }
    },
    {
      "cell_type": "markdown",
      "source": [
        "##### 2. What is/are the insight(s) found from the chart?"
      ],
      "metadata": {
        "id": "ijmpgYnKYklI"
      }
    },
    {
      "cell_type": "markdown",
      "source": [
        "According to data City hotel has the maximum bookings which is near about 61% on the other hand Resort hotel has only 38% (approx) bookings.Here we can say that the City hotel is doing more business as compared to Resort hotel."
      ],
      "metadata": {
        "id": "PSx9atu2YklI"
      }
    },
    {
      "cell_type": "markdown",
      "source": [
        "##### 3. Will the gained insights help creating a positive business impact?\n",
        "Are there any insights that lead to negative growth? Justify with specific reason."
      ],
      "metadata": {
        "id": "-JiQyfWJYklI"
      }
    },
    {
      "cell_type": "markdown",
      "source": [
        "Yes, This will help in creating positive business impact.We can say that both the hotels are doing good business but for resort hotel management can plan something better (eg: giving coupons, festival offers) to attract more customers to generate more revenue. In present we can say that city hotel is providing more services to the customers.\n"
      ],
      "metadata": {
        "id": "BcBbebzrYklV"
      }
    },
    {
      "cell_type": "markdown",
      "source": [
        "#### Chart - 3"
      ],
      "metadata": {
        "id": "EM7whBJCYoAo"
      }
    },
    {
      "cell_type": "code",
      "source": [
        "# Chart - 3 visualization code\n",
        "# chart for cancelled or not cancelled hotel\n",
        "exp4 = [0,0.4]\n",
        "plot_pie_chart_from_column(df,'is_canceled','cancellation_volume_of_hotel',exp4)"
      ],
      "metadata": {
        "id": "t6GMdE67YoAp"
      },
      "execution_count": null,
      "outputs": []
    },
    {
      "cell_type": "markdown",
      "source": [
        "##### 1. Why did you pick the specific chart?"
      ],
      "metadata": {
        "id": "fge-S5ZAYoAp"
      }
    },
    {
      "cell_type": "markdown",
      "source": [
        "Picked pie chart because it effectively represents the proportion of bookings that are cancelled versus those that are not, making it easy to visualize the relative frequencies of these categories."
      ],
      "metadata": {
        "id": "5dBItgRVYoAp"
      }
    },
    {
      "cell_type": "markdown",
      "source": [
        "##### 2. What is/are the insight(s) found from the chart?"
      ],
      "metadata": {
        "id": "85gYPyotYoAp"
      }
    },
    {
      "cell_type": "markdown",
      "source": [
        "\n",
        "We can see that the ratio of not cancelled hotel is more than the cancelled hotel."
      ],
      "metadata": {
        "id": "4jstXR6OYoAp"
      }
    },
    {
      "cell_type": "markdown",
      "source": [
        "##### 3. Will the gained insights help creating a positive business impact?\n",
        "Are there any insights that lead to negative growth? Justify with specific reason."
      ],
      "metadata": {
        "id": "RoGjAbkUYoAp"
      }
    },
    {
      "cell_type": "markdown",
      "source": [
        "Alsmost 27% customers cancelled their booking.\n",
        "\n",
        "we have to check the reson behind the cancellation and need to sort this problems."
      ],
      "metadata": {
        "id": "zfJ8IqMcYoAp"
      }
    },
    {
      "cell_type": "markdown",
      "source": [
        "#### Chart - 4"
      ],
      "metadata": {
        "id": "4Of9eVA-YrdM"
      }
    },
    {
      "cell_type": "code",
      "source": [
        "# Chart - 4 visualization code\n",
        "# chart of total stay\n",
        "df['total_stay_in_nights'] = df['stays_in_week_nights'] + df['stays_in_weekend_nights']\n",
        "plt.figure(figsize=(18,8))\n",
        "sns.violinplot(x=\"arrival_date_week_number\",y=\"total_stay_in_nights\",data= df)\n",
        "plt.title(\"Week wise  no. of stays\", fontsize = 25)\n",
        "plt.ylabel(\"Number of stays\",fontsize=20)\n",
        "plt.xlabel(\"Week numbers\",fontsize=18)\n",
        "df['total_stay_in_nights'] = df['stays_in_week_nights'] + df['stays_in_weekend_nights']\n",
        "\n"
      ],
      "metadata": {
        "id": "irlUoxc8YrdO"
      },
      "execution_count": null,
      "outputs": []
    },
    {
      "cell_type": "markdown",
      "source": [
        "##### 1. Why did you pick the specific chart?"
      ],
      "metadata": {
        "id": "iky9q4vBYrdO"
      }
    },
    {
      "cell_type": "markdown",
      "source": [
        "I used a violin plot because it provides a detailed visualization of the distribution of the total number of stays across different weeks, showing both the density and variability of the data."
      ],
      "metadata": {
        "id": "aJRCwT6DYrdO"
      }
    },
    {
      "cell_type": "markdown",
      "source": [
        "##### 2. What is/are the insight(s) found from the chart?"
      ],
      "metadata": {
        "id": "F6T5p64dYrdO"
      }
    },
    {
      "cell_type": "markdown",
      "source": [
        "This chart shows that the maximum number of guests come in the week 39.\n",
        "\n"
      ],
      "metadata": {
        "id": "Xx8WAJvtYrdO"
      }
    },
    {
      "cell_type": "markdown",
      "source": [
        "##### 3. Will the gained insights help creating a positive business impact?\n",
        "Are there any insights that lead to negative growth? Justify with specific reason."
      ],
      "metadata": {
        "id": "y-Ehk30pYrdP"
      }
    },
    {
      "cell_type": "markdown",
      "source": [
        "According to chart we can see that some weeks are very low customers rate, For this we can more adervertise and give discounts to attarct the customers."
      ],
      "metadata": {
        "id": "jLNxxz7MYrdP"
      }
    },
    {
      "cell_type": "markdown",
      "source": [
        "#### Chart - 5"
      ],
      "metadata": {
        "id": "bamQiAODYuh1"
      }
    },
    {
      "cell_type": "code",
      "source": [
        "# Chart - 5 visualization code\n",
        "plt.figure(figsize=(9,5))\n",
        "sns.countplot(x=df['agent'])\n",
        "plt.title(\"Distribution of Bookings by Agent\", fontsize=25)\n",
        "plt.ylabel(\"Count\", fontsize=20)\n",
        "plt.xlabel(\"Agent ID\", fontsize=18)\n",
        "plt.show()\n"
      ],
      "metadata": {
        "id": "TIJwrbroYuh3"
      },
      "execution_count": null,
      "outputs": []
    },
    {
      "cell_type": "markdown",
      "source": [
        "##### 1. Why did you pick the specific chart?"
      ],
      "metadata": {
        "id": "QHF8YVU7Yuh3"
      }
    },
    {
      "cell_type": "markdown",
      "source": [
        "Here, I picked a count plot because it effectively shows the frequency of bookings made through different agents, allowing for easy comparison of agent performance and popularity."
      ],
      "metadata": {
        "id": "dcxuIMRPYuh3"
      }
    },
    {
      "cell_type": "markdown",
      "source": [
        "##### 2. What is/are the insight(s) found from the chart?"
      ],
      "metadata": {
        "id": "GwzvFGzlYuh3"
      }
    },
    {
      "cell_type": "markdown",
      "source": [
        "The chart reveals which agents are responsible for the most bookings. Some agents have significantly higher booking counts, indicating they are major contributors to the hotel's business."
      ],
      "metadata": {
        "id": "uyqkiB8YYuh3"
      }
    },
    {
      "cell_type": "markdown",
      "source": [
        "##### 3. Will the gained insights help creating a positive business impact?\n",
        "Are there any insights that lead to negative growth? Justify with specific reason."
      ],
      "metadata": {
        "id": "qYpmQ266Yuh3"
      }
    },
    {
      "cell_type": "markdown",
      "source": [
        "Yes, these insights can help the hotel identify top-performing agents and potentially offer them incentives or partnerships to boost bookings further. Additionally, understanding which agents are underperforming could lead to strategies to improve their performance or reconsider the partnerships."
      ],
      "metadata": {
        "id": "_WtzZ_hCYuh4"
      }
    },
    {
      "cell_type": "markdown",
      "source": [
        "#### Chart - 6"
      ],
      "metadata": {
        "id": "OH-pJp9IphqM"
      }
    },
    {
      "cell_type": "code",
      "source": [
        "# Chart - 6 visualization code\n",
        "# Plot pie chart for month-wise booking distribution\n",
        "exp2 = [0.8,0,0,0,0,0,0,0,0,0,0,0.10]\n",
        "plot_pie_chart_from_column(df, 'arrival_date_month', 'Month-wise Booking Distribution', exp2)"
      ],
      "metadata": {
        "id": "kuRf4wtuphqN"
      },
      "execution_count": null,
      "outputs": []
    },
    {
      "cell_type": "markdown",
      "source": [
        "##### 1. Why did you pick the specific chart?"
      ],
      "metadata": {
        "id": "bbFf2-_FphqN"
      }
    },
    {
      "cell_type": "markdown",
      "source": [
        "I picked a pie chart because it effectively shows the proportion of bookings in each month, making it easy to visualize and compare the relative frequencies of bookings across different months."
      ],
      "metadata": {
        "id": "loh7H2nzphqN"
      }
    },
    {
      "cell_type": "markdown",
      "source": [
        "##### 2. What is/are the insight(s) found from the chart?"
      ],
      "metadata": {
        "id": "_ouA3fa0phqN"
      }
    },
    {
      "cell_type": "markdown",
      "source": [
        "The above percentage pie chart shows that hotel gets the maximum booking of hotels in the month of August followed by july and may due to holiday seasons.\n",
        "Also it is showing that least booking were made in the start and end of the year."
      ],
      "metadata": {
        "id": "VECbqPI7phqN"
      }
    },
    {
      "cell_type": "markdown",
      "source": [
        "##### 3. Will the gained insights help creating a positive business impact?\n",
        "Are there any insights that lead to negative growth? Justify with specific reason."
      ],
      "metadata": {
        "id": "Seke61FWphqN"
      }
    },
    {
      "cell_type": "markdown",
      "source": [
        "The gained insights is helping us to know the trends of the booking months and in less booking months what hotels can do to sustain.\n",
        "\n",
        "Yes , with increase in volume of visitors will help to manage the revenue in the down time of the booking and also help in employes satisfaction or rentation."
      ],
      "metadata": {
        "id": "DW4_bGpfphqN"
      }
    },
    {
      "cell_type": "markdown",
      "source": [
        "#### Chart - 7"
      ],
      "metadata": {
        "id": "PIIx-8_IphqN"
      }
    },
    {
      "cell_type": "code",
      "source": [
        "# Chart - 7 visualization code\n",
        "# repetead guest in the hotel\n",
        "exp3 = [0,0.4]\n",
        "plot_pie_chart_from_column(df,'is_repeated_guest', 'guest repeating status',exp3)"
      ],
      "metadata": {
        "id": "lqAIGUfyphqO"
      },
      "execution_count": null,
      "outputs": []
    },
    {
      "cell_type": "markdown",
      "source": [
        "##### 1. Why did you pick the specific chart?"
      ],
      "metadata": {
        "id": "t27r6nlMphqO"
      }
    },
    {
      "cell_type": "markdown",
      "source": [
        "I picked a pie chart because it clearly shows the proportion of guests who are repeated visitors versus those who are not, making it easy to understand the guest loyalty."
      ],
      "metadata": {
        "id": "iv6ro40sphqO"
      }
    },
    {
      "cell_type": "markdown",
      "source": [
        "##### 2. What is/are the insight(s) found from the chart?"
      ],
      "metadata": {
        "id": "r2jJGEOYphqO"
      }
    },
    {
      "cell_type": "markdown",
      "source": [
        "Here,We can see that the number of repeated guests is very less as compared to new guests."
      ],
      "metadata": {
        "id": "Po6ZPi4hphqO"
      }
    },
    {
      "cell_type": "markdown",
      "source": [
        "##### 3. Will the gained insights help creating a positive business impact?\n",
        "Are there any insights that lead to negative growth? Justify with specific reason."
      ],
      "metadata": {
        "id": "b0JNsNcRphqO"
      }
    },
    {
      "cell_type": "markdown",
      "source": [
        "yes, We can give exclusive discounts,offers and coupons to our customers during off seasons to enhance the revenue of our hotel."
      ],
      "metadata": {
        "id": "xvSq8iUTphqO"
      }
    },
    {
      "cell_type": "markdown",
      "source": [
        "#### Chart - 8"
      ],
      "metadata": {
        "id": "BZR9WyysphqO"
      }
    },
    {
      "cell_type": "code",
      "source": [
        "# Chart - 8 visualization code\n",
        "guest_month_wise = pd.DataFrame(df[['arrival_date_month','total_guest']])\n",
        "guest_month_wise_df = guest_month_wise.groupby(['arrival_date_month'])['total_guest'].sum()\n",
        "guest_month_wise_df.sort_values(ascending = False, inplace = True)\n",
        "df['total_guest']"
      ],
      "metadata": {
        "id": "TdPTWpAVphqO"
      },
      "execution_count": null,
      "outputs": []
    },
    {
      "cell_type": "code",
      "source": [
        "market_segment_df = pd.DataFrame(df['market_segment'])\n",
        "market_segment_df_data= market_segment_df.groupby('market_segment')['market_segment'].count()\n",
        "market_segment_df_data.sort_values(ascending = False, inplace= True)\n",
        "plt.figure(figsize=(15,6))\n",
        "y= np.array([4,5,6])\n",
        "market_segment_df_data.plot(kind='bar',color = ['g','r','c','b','y','black','brown'], fontsize = 20, legend = 'True')"
      ],
      "metadata": {
        "id": "jdsNAWy9-6bQ"
      },
      "execution_count": null,
      "outputs": []
    },
    {
      "cell_type": "markdown",
      "source": [
        "##### 1. Why did you pick the specific chart?"
      ],
      "metadata": {
        "id": "jj7wYXLtphqO"
      }
    },
    {
      "cell_type": "markdown",
      "source": [
        "I picked a bar chart because it effectively shows the distribution and frequency of bookings across different market segments, making it easy to compare the popularity and volume of each segment."
      ],
      "metadata": {
        "id": "Ob8u6rCTphqO"
      }
    },
    {
      "cell_type": "markdown",
      "source": [
        "##### 2. What is/are the insight(s) found from the chart?"
      ],
      "metadata": {
        "id": "eZrbJ2SmphqO"
      }
    },
    {
      "cell_type": "markdown",
      "source": [
        "Online TA has been used most frequently to book hotel by the guest."
      ],
      "metadata": {
        "id": "mZtgC_hjphqO"
      }
    },
    {
      "cell_type": "markdown",
      "source": [
        "##### 3. Will the gained insights help creating a positive business impact?\n",
        "Are there any insights that lead to negative growth? Justify with specific reason."
      ],
      "metadata": {
        "id": "rFu4xreNphqO"
      }
    },
    {
      "cell_type": "markdown",
      "source": [
        "Yes, it is creating positive business impact that guests are using online TA market segment as most preferd to book hotels.\n",
        "\n"
      ],
      "metadata": {
        "id": "ey_0qi68phqO"
      }
    },
    {
      "cell_type": "markdown",
      "source": [
        "#### Chart - 9"
      ],
      "metadata": {
        "id": "YJ55k-q6phqO"
      }
    },
    {
      "cell_type": "code",
      "source": [
        "# Chart - 9 visualization code\n",
        "guest_country_wise = pd.DataFrame(df[['country','total_guest']])\n",
        "guest_country_wise_df = guest_country_wise.groupby(['country'])['total_guest'].sum()\n",
        "guest_country_wise_df.sort_values(ascending = False , inplace = True)\n",
        "top_10_country_by_guest = guest_country_wise_df.head(10)"
      ],
      "metadata": {
        "id": "B2aS4O1ophqO"
      },
      "execution_count": null,
      "outputs": []
    },
    {
      "cell_type": "code",
      "source": [
        "plt.figure(figsize=(12,6))\n",
        "sns.barplot(x=top_10_country_by_guest.index,y=top_10_country_by_guest).set(title='top 10 country by guest')\n",
        "print(\"/n/nPRT = Portugal/nGBR = Great Britain & Northern Ireland/nFRA= France/nESP = Spain/nDEU = Germany/nITA = Italy/nIRL = Ireland/nBRA = Brazil/nBEL = Belgium/nNLD = Neitherland\")\n"
      ],
      "metadata": {
        "id": "7iWh6S9v_jLp"
      },
      "execution_count": null,
      "outputs": []
    },
    {
      "cell_type": "markdown",
      "source": [
        "##### 1. Why did you pick the specific chart?"
      ],
      "metadata": {
        "id": "gCFgpxoyphqP"
      }
    },
    {
      "cell_type": "markdown",
      "source": [
        "I picked a bar chart because it effectively displays the number of guests from the top 10 countries, making it easy to compare and rank the countries by their contribution to the guest count."
      ],
      "metadata": {
        "id": "TVxDimi2phqP"
      }
    },
    {
      "cell_type": "markdown",
      "source": [
        "##### 2. What is/are the insight(s) found from the chart?"
      ],
      "metadata": {
        "id": "OVtJsKN_phqQ"
      }
    },
    {
      "cell_type": "markdown",
      "source": [
        "According to the grap we can clearly see that maximum guests come from Portugal country."
      ],
      "metadata": {
        "id": "ngGi97qjphqQ"
      }
    },
    {
      "cell_type": "markdown",
      "source": [
        "##### 3. Will the gained insights help creating a positive business impact?\n",
        "Are there any insights that lead to negative growth? Justify with specific reason."
      ],
      "metadata": {
        "id": "lssrdh5qphqQ"
      }
    },
    {
      "cell_type": "markdown",
      "source": [
        "We can do more advertisment & can provide offers to Portugal guests to enhance the more customer volumes."
      ],
      "metadata": {
        "id": "tBpY5ekJphqQ"
      }
    },
    {
      "cell_type": "markdown",
      "source": [
        "#### Chart - 10"
      ],
      "metadata": {
        "id": "U2RJ9gkRphqQ"
      }
    },
    {
      "cell_type": "code",
      "source": [
        "# Chart - 10 visualization code\n",
        "plt.figure(figsize=(10,6))\n",
        "hotel_wise_revenue = df.groupby('hotel')['revenue'].sum()\n",
        "hotel_wise_revenue\n",
        "ax = hotel_wise_revenue.plot(kind = 'bar',color = ('y','c'))\n",
        "plt.xlabel(\"Hotel\", fontdict ={'fontsize':12,'fontweight':5,'color':'red'})\n",
        "plt.ylabel(\"Total revenue\", fontdict={'fontsize':12,'fontweight':5,'color':'red'})\n",
        "plt.title(\"Total revenue\", fontdict={'fontsize':12,'fontweight':5,'color':'green'})"
      ],
      "metadata": {
        "id": "GM7a4YP4phqQ"
      },
      "execution_count": null,
      "outputs": []
    },
    {
      "cell_type": "markdown",
      "source": [
        "##### 1. Why did you pick the specific chart?"
      ],
      "metadata": {
        "id": "1M8mcRywphqQ"
      }
    },
    {
      "cell_type": "markdown",
      "source": [
        "I chose a bar chart because it is ideal for comparing the total revenue generated by different types of hotels (e.g., City Hotel and Resort Hotel). It allows for a clear and straightforward comparison between categories."
      ],
      "metadata": {
        "id": "8agQvks0phqQ"
      }
    },
    {
      "cell_type": "markdown",
      "source": [
        "##### 2. What is/are the insight(s) found from the chart?"
      ],
      "metadata": {
        "id": "tgIPom80phqQ"
      }
    },
    {
      "cell_type": "markdown",
      "source": [
        "The City Hotel has heighest adr. This means City Hotel are generating more revenue than the Resort Hotel.\n",
        "\n"
      ],
      "metadata": {
        "id": "Qp13pnNzphqQ"
      }
    },
    {
      "cell_type": "markdown",
      "source": [
        "##### 3. Will the gained insights help creating a positive business impact?\n",
        "Are there any insights that lead to negative growth? Justify with specific reason."
      ],
      "metadata": {
        "id": "JMzcOPDDphqR"
      }
    },
    {
      "cell_type": "markdown",
      "source": [
        "Yes, more advertisment , more offers creates more revenue to the Hotels."
      ],
      "metadata": {
        "id": "R4Ka1PC2phqR"
      }
    },
    {
      "cell_type": "markdown",
      "source": [
        "#### Chart - 11"
      ],
      "metadata": {
        "id": "x-EpHcCOp1ci"
      }
    },
    {
      "cell_type": "code",
      "source": [
        "# Chart - 11 visualization code\n",
        "# To find Average ADR of the hotels\n",
        "average_adr = df.groupby('hotel')['adr'].mean()\n",
        "average_adr\n",
        "\n",
        "plt.subplots(figsize=(12,8))\n",
        "average_adr.plot(kind = 'barh',color = ('c','y'))\n",
        "plt.xlabel(\"Average ADR\",fontdict={'fontsize':12,'fontweight':5,'color':'Brown'})\n",
        "plt.ylabel(\"Hotel Name\",fontdict={'fontsize':12,'fontweight':5,'color':'Brown'})\n",
        "plt.title(\"Average ADR of Hotel\",fontdict={'fontsize':12,'fontweight':5,'color':'Green'})"
      ],
      "metadata": {
        "id": "mAQTIvtqp1cj"
      },
      "execution_count": null,
      "outputs": []
    },
    {
      "cell_type": "markdown",
      "source": [
        "##### 1. Why did you pick the specific chart?"
      ],
      "metadata": {
        "id": "X_VqEhTip1ck"
      }
    },
    {
      "cell_type": "markdown",
      "source": [
        "I chose a horizontal bar chart to compare the Average Daily Rate (ADR) of different hotel types. This chart type makes it easy to see which hotel type has a higher or lower ADR and is effective for side-by-side comparisons."
      ],
      "metadata": {
        "id": "-vsMzt_np1ck"
      }
    },
    {
      "cell_type": "markdown",
      "source": [
        "##### 2. What is/are the insight(s) found from the chart?"
      ],
      "metadata": {
        "id": "8zGJKyg5p1ck"
      }
    },
    {
      "cell_type": "markdown",
      "source": [
        "As we can see the Average ADR of City Hotel is more than the Resort Hotel , so the profit and revenue will be higher for the City Hotel as compared to Resort Hotel."
      ],
      "metadata": {
        "id": "ZYdMsrqVp1ck"
      }
    },
    {
      "cell_type": "markdown",
      "source": [
        "##### 3. Will the gained insights help creating a positive business impact?\n",
        "Are there any insights that lead to negative growth? Justify with specific reason."
      ],
      "metadata": {
        "id": "PVzmfK_Ep1ck"
      }
    },
    {
      "cell_type": "markdown",
      "source": [
        "Here we can do more advertisement of the Hotels amnd give offer to the customers to visit their hotel to get higher profit qnd large revenue."
      ],
      "metadata": {
        "id": "druuKYZpp1ck"
      }
    },
    {
      "cell_type": "markdown",
      "source": [
        "#### Chart - 12"
      ],
      "metadata": {
        "id": "n3dbpmDWp1ck"
      }
    },
    {
      "cell_type": "code",
      "source": [
        "# Plotting a scatter plot to visualize the relationship between ADR and total stay duration\n",
        "plt.figure(figsize=(12,8))\n",
        "sns.scatterplot(y='adr', x='total_stay_in_nights', data=df[df['adr'] < 100])\n",
        "\n",
        "# Adding labels and title\n",
        "plt.xlabel(\"Total Stay Duration (Nights)\", fontdict={'fontsize':12, 'fontweight':5, 'color':'blue'})\n",
        "plt.ylabel(\"ADR (Average Daily Rate)\", fontdict={'fontsize':12, 'fontweight':5, 'color':'blue'})\n",
        "plt.title(\"Relationship Between ADR and Total Stay Duration\", fontdict={'fontsize':14, 'fontweight':5, 'color':'green'})\n",
        "\n",
        "# Display the plot\n",
        "plt.show()\n"
      ],
      "metadata": {
        "id": "sSg0NrPWA5ND"
      },
      "execution_count": null,
      "outputs": []
    },
    {
      "cell_type": "markdown",
      "source": [
        "##### 1. Why did you pick the specific chart?"
      ],
      "metadata": {
        "id": "ylSl6qgtp1ck"
      }
    },
    {
      "cell_type": "markdown",
      "source": [
        "I chose a scatter plot to visualize the relationship between the Average Daily Rate (ADR) and the total stay duration. This type of chart allows for the examination of how ADR varies with the length of stay."
      ],
      "metadata": {
        "id": "m2xqNkiQp1ck"
      }
    },
    {
      "cell_type": "markdown",
      "source": [
        "##### 2. What is/are the insight(s) found from the chart?"
      ],
      "metadata": {
        "id": "ZWILFDl5p1ck"
      }
    },
    {
      "cell_type": "markdown",
      "source": [
        "The dots in scatter plot not only the report it is the values of individual data points , but also patterns when the data are taken as a whole.\n",
        "\n"
      ],
      "metadata": {
        "id": "x-lUsV2mp1ck"
      }
    },
    {
      "cell_type": "markdown",
      "source": [
        "##### 3. Will the gained insights help creating a positive business impact?\n",
        "Are there any insights that lead to negative growth? Justify with specific reason."
      ],
      "metadata": {
        "id": "M7G43BXep1ck"
      }
    },
    {
      "cell_type": "markdown",
      "source": [
        "The dots in scatter plot not only the report it is the values of individual data points , but also patterns when the data are taken as a whole.\n",
        "\n"
      ],
      "metadata": {
        "id": "5wwDJXsLp1cl"
      }
    },
    {
      "cell_type": "markdown",
      "source": [
        "#### Chart - 13"
      ],
      "metadata": {
        "id": "Ag9LCva-p1cl"
      }
    },
    {
      "cell_type": "code",
      "source": [
        "# Chart - 13 visualization code\n",
        "plt.figure(figsize=(12,10), dpi=100)\n",
        "hotel_wise_meal = df.groupby(['hotel','meal'])['meal'].count().unstack()\n",
        "hotel_wise_meal.plot(kind='bar', figsize=(20,12))\n",
        "plt.show()\n"
      ],
      "metadata": {
        "id": "EUfxeq9-p1cl"
      },
      "execution_count": null,
      "outputs": []
    },
    {
      "cell_type": "markdown",
      "source": [
        "##### 1. Why did you pick the specific chart?"
      ],
      "metadata": {
        "id": "E6MkPsBcp1cl"
      }
    },
    {
      "cell_type": "markdown",
      "source": [
        "I chose a grouped bar chart to compare the distribution of meal types across different hotel types. This chart type effectively shows the breakdown of meal types (e.g., Bed & Breakfast, Half Board, Full Board) within each hotel category, allowing for easy comparison."
      ],
      "metadata": {
        "id": "V22bRsFWp1cl"
      }
    },
    {
      "cell_type": "markdown",
      "source": [
        "##### 2. What is/are the insight(s) found from the chart?"
      ],
      "metadata": {
        "id": "2cELzS2fp1cl"
      }
    },
    {
      "cell_type": "markdown",
      "source": [
        "As we can see Bed & Breakfast meal is most preferd by the guests in hotels.\n",
        "\n"
      ],
      "metadata": {
        "id": "ozQPc2_Ip1cl"
      }
    },
    {
      "cell_type": "markdown",
      "source": [
        "##### 3. Will the gained insights help creating a positive business impact?\n",
        "Are there any insights that lead to negative growth? Justify with specific reason."
      ],
      "metadata": {
        "id": "3MPXvC8up1cl"
      }
    },
    {
      "cell_type": "markdown",
      "source": [
        "Hotel can give more delicious dishes in the meal to get customers repeat order & attract to a new customer."
      ],
      "metadata": {
        "id": "GL8l1tdLp1cl"
      }
    },
    {
      "cell_type": "markdown",
      "source": [
        "#### Chart - 14 - Correlation Heatmap"
      ],
      "metadata": {
        "id": "NC_X3p0fY2L0"
      }
    },
    {
      "cell_type": "code",
      "source": [
        "# Correlation Heatmap visualization code\n",
        "corr_df = df[['lead_time','previous_cancellations','previous_bookings_not_canceled','total_guest',\n",
        "              'booking_changes','days_in_waiting_list','adr','required_car_parking_spaces','total_of_special_requests']].corr()\n",
        "plt.figure(figsize=(18,10))\n",
        "sns.heatmap(corr_df, annot = True, fmt='.2f',annot_kws={'size':10},vmax=1,cmap='viridis' )\n",
        "plt.title('Co-relation of the column', fontsize=20)"
      ],
      "metadata": {
        "id": "xyC9zolEZNRQ"
      },
      "execution_count": null,
      "outputs": []
    },
    {
      "cell_type": "markdown",
      "source": [
        "##### 1. Why did you pick the specific chart?"
      ],
      "metadata": {
        "id": "UV0SzAkaZNRQ"
      }
    },
    {
      "cell_type": "markdown",
      "source": [
        "Heatmaps are excellent for visualizing the correlation between variables in a dataset. They provide a quick and intuitive way to identify relationships between different columns."
      ],
      "metadata": {
        "id": "DVPuT8LYZNRQ"
      }
    },
    {
      "cell_type": "markdown",
      "source": [
        "##### 2. What is/are the insight(s) found from the chart?"
      ],
      "metadata": {
        "id": "YPEH6qLeZNRQ"
      }
    },
    {
      "cell_type": "markdown",
      "source": [
        "The heatmap allows us to see the correlation coefficients between pairs of columns in the dataset. Higher correlation coefficients (close to 1 or -1) indicate stronger relationships between variables, while values closer to 0 indicate weaker relationships or no correlation.\n",
        "\n",
        "The lead time is possibly correlated to the hotel stay that means the more the stay of the tourists the more the lead time will be.\n",
        "The adr and number of guests are highly corrleated means higher number of guests results higher revenue."
      ],
      "metadata": {
        "id": "bfSqtnDqZNRR"
      }
    },
    {
      "cell_type": "markdown",
      "source": [
        "## **5. Solution to Business Objective**"
      ],
      "metadata": {
        "id": "JcMwzZxoAimU"
      }
    },
    {
      "cell_type": "markdown",
      "source": [
        "#### What do you suggest the client to achieve Business Objective ?\n",
        "Explain Briefly."
      ],
      "metadata": {
        "id": "8G2x9gOozGDZ"
      }
    },
    {
      "cell_type": "markdown",
      "source": [
        "Following are the points to achieve Bussines Objectives\n",
        "\n",
        "1- The primary objective of any hotel is to provide customers a convinent & a efficient way to book their stay and providing them a quality services to gain a healthy customer satisfaction. In this way the hotel will be able to grow their business by generating higher revenues. Apart from this employee retension should also be taken care off.\n",
        "\n",
        "2- The hotel should also take care the special requests coming from the customer to increase the repeated customer.\n",
        "\n",
        "3- The hotels can runs campaigns, promotions, advertisements, some festival or seasonal offers to attract more customers.\n",
        "\n",
        "4- We have seen from the visualization that most of the booking were done from the online travel agent , so the hotels need to be more focused on this sector to increase customer number.\n",
        "\n",
        "5- With histogram we have seen that there are very less space for car parking so hotel management need to work on this to avoid loosing customers.\n",
        "\n",
        "6- The hotels should do a survey to find out the reason of cancellation. By analysing those reasons the hotels can improve their business.\n",
        "\n",
        "7- Outliers like higher the visitor then the adr has reduced drastically was shown in Scatter plot so in off seasons client engaged with offices for bulk bookings, this will also help in extra revenue generation.\n",
        "\n",
        "8- We are able to show the trend of arrivals of visitor at client location through which client engaged visitors well advance for their entertainment and leisure activities.\n"
      ],
      "metadata": {
        "id": "pASKb0qOza21"
      }
    },
    {
      "cell_type": "markdown",
      "source": [
        "# **Conclusion**"
      ],
      "metadata": {
        "id": "gCX9965dhzqZ"
      }
    },
    {
      "cell_type": "markdown",
      "source": [
        "1- Repeated guest maximum comes from corporate sector.\n",
        "\n",
        "2- City hotel seems to be more preferred among travellers and it also generates more revenue & profit.\n",
        "\n",
        "3- Most of the guests stay 3-4 days in the hotel.\n",
        "\n",
        "4- Most numbers of bookings are made in month of july and august as compared to another month. And least bookings were made from the start and end of the year.\n",
        "\n",
        "5- Room type A is most preferred room as compare to other rooms.\n",
        "\n",
        "6- Most number of bookings are made fromm Portugal & Great Britain.\n",
        "\n",
        "7- City hotel guest retains more number of guests.\n",
        "\n",
        "8- Around one-fourth of the total bookings getting cancelled. More cancellation comes from City hotel.\n",
        "\n",
        "9- New guest tends to cancel bookings more than repeated customers.\n",
        "\n",
        "10- There are very low percentage of repeated guests coming to the hotels.\n",
        "\n",
        "11- Most preferred meal type is breakfast.\n",
        "\n",
        "12- The cancellation percentage is almost 27% and more than 72% bookings were confirmed.\n",
        "\n",
        "13- The higher percentage of booking coming from the online travel agent section."
      ],
      "metadata": {
        "id": "Fjb1IsQkh3yE"
      }
    },
    {
      "cell_type": "markdown",
      "source": [
        "### ***Hurrah! You have successfully completed your EDA Capstone Project !!!***"
      ],
      "metadata": {
        "id": "gIfDvo9L0UH2"
      }
    }
  ]
}